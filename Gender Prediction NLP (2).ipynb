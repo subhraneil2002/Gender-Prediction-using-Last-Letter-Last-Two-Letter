{
 "cells": [
  {
   "cell_type": "markdown",
   "metadata": {},
   "source": [
    "## Importing the Libraries"
   ]
  },
  {
   "cell_type": "code",
   "execution_count": 1,
   "metadata": {
    "id": "EsoYA4l7rIKz"
   },
   "outputs": [],
   "source": [
    "import pandas as pd\n",
    "import random\n",
    "from nltk import NaiveBayesClassifier\n",
    "from nltk.classify import accuracy\n",
    "from sklearn.model_selection import train_test_split\n",
    "from sklearn.linear_model import LogisticRegression\n",
    "from sklearn.ensemble import RandomForestClassifier\n",
    "from sklearn.metrics import accuracy_score\n",
    "import spacy\n",
    "import numpy as np"
   ]
  },
  {
   "cell_type": "markdown",
   "metadata": {},
   "source": [
    "## Reading the dataset"
   ]
  },
  {
   "cell_type": "code",
   "execution_count": 2,
   "metadata": {},
   "outputs": [
    {
     "data": {
      "text/html": [
       "<div>\n",
       "<style scoped>\n",
       "    .dataframe tbody tr th:only-of-type {\n",
       "        vertical-align: middle;\n",
       "    }\n",
       "\n",
       "    .dataframe tbody tr th {\n",
       "        vertical-align: top;\n",
       "    }\n",
       "\n",
       "    .dataframe thead th {\n",
       "        text-align: right;\n",
       "    }\n",
       "</style>\n",
       "<table border=\"1\" class=\"dataframe\">\n",
       "  <thead>\n",
       "    <tr style=\"text-align: right;\">\n",
       "      <th></th>\n",
       "      <th>Name</th>\n",
       "      <th>Gender</th>\n",
       "    </tr>\n",
       "  </thead>\n",
       "  <tbody>\n",
       "    <tr>\n",
       "      <th>0</th>\n",
       "      <td>Aaban</td>\n",
       "      <td>0</td>\n",
       "    </tr>\n",
       "    <tr>\n",
       "      <th>1</th>\n",
       "      <td>Aabharan</td>\n",
       "      <td>0</td>\n",
       "    </tr>\n",
       "    <tr>\n",
       "      <th>2</th>\n",
       "      <td>Aabhas</td>\n",
       "      <td>0</td>\n",
       "    </tr>\n",
       "    <tr>\n",
       "      <th>3</th>\n",
       "      <td>Aabhat</td>\n",
       "      <td>0</td>\n",
       "    </tr>\n",
       "    <tr>\n",
       "      <th>4</th>\n",
       "      <td>Aabheer</td>\n",
       "      <td>0</td>\n",
       "    </tr>\n",
       "  </tbody>\n",
       "</table>\n",
       "</div>"
      ],
      "text/plain": [
       "       Name  Gender\n",
       "0     Aaban       0\n",
       "1  Aabharan       0\n",
       "2    Aabhas       0\n",
       "3    Aabhat       0\n",
       "4   Aabheer       0"
      ]
     },
     "execution_count": 2,
     "metadata": {},
     "output_type": "execute_result"
    }
   ],
   "source": [
    "# Load dataset from the online link\n",
    "df = pd.read_csv(r\"C:\\Users\\admin\\Downloads\\Gender_Data.csv\")\n",
    "\n",
    "# Ensure the dataset has the correct columns\n",
    "df.head()  # Display the first few rows of the dataset"
   ]
  },
  {
   "cell_type": "code",
   "execution_count": 3,
   "metadata": {},
   "outputs": [
    {
     "data": {
      "text/plain": [
       "(53982, 2)"
      ]
     },
     "execution_count": 3,
     "metadata": {},
     "output_type": "execute_result"
    }
   ],
   "source": [
    "df.shape"
   ]
  },
  {
   "cell_type": "markdown",
   "metadata": {},
   "source": [
    "## Data Preprocessing"
   ]
  },
  {
   "cell_type": "code",
   "execution_count": 4,
   "metadata": {},
   "outputs": [],
   "source": [
    "# Prepare names list\n",
    "names_list = list(zip(df['Name'], df['Gender']))"
   ]
  },
  {
   "cell_type": "code",
   "execution_count": 5,
   "metadata": {},
   "outputs": [],
   "source": [
    "# Feature extraction functions\n",
    "def gender_features_last_letter(name):\n",
    "    return {'last_letter': name[-1].lower()}\n",
    "\n",
    "def gender_features_last_two_letters(name):\n",
    "    return {'last_two_letters': name[-2:].lower()}\n",
    "\n",
    "# Prepare features and labels for variation 1\n",
    "featuresets1 = [(gender_features_last_letter(name), gender) for (name, gender) in names_list]\n",
    "random.shuffle(featuresets1)\n",
    "train_set1, test_set1 = featuresets1[8000:], featuresets1[:2000]\n",
    "\n",
    "# Prepare features and labels for variation 2\n",
    "featuresets2 = [(gender_features_last_two_letters(name), gender) for (name, gender) in names_list]\n",
    "random.shuffle(featuresets2)\n",
    "train_set2, test_set2 = featuresets2[8000:], featuresets2[:2000]"
   ]
  },
  {
   "cell_type": "markdown",
   "metadata": {},
   "source": [
    "## Training the Model (Naive Bayes Classifier) and Evaluating"
   ]
  },
  {
   "cell_type": "code",
   "execution_count": 6,
   "metadata": {},
   "outputs": [
    {
     "name": "stdout",
     "output_type": "stream",
     "text": [
      "Naive Bayes Accuracy (Last Letter): 0.89\n",
      "Naive Bayes Accuracy (Last Two Letters): 0.91\n"
     ]
    }
   ],
   "source": [
    "# Train Naive Bayes Classifier for Variation 1\n",
    "classifier1 = NaiveBayesClassifier.train(train_set1)\n",
    "print(\"Naive Bayes Accuracy (Last Letter):\", np.round(accuracy(classifier1, test_set1), 2))\n",
    "\n",
    "# Train Naive Bayes Classifier for Variation 2\n",
    "classifier2 = NaiveBayesClassifier.train(train_set2)\n",
    "print(\"Naive Bayes Accuracy (Last Two Letters):\", np.round(accuracy(classifier2, test_set2), 2))"
   ]
  },
  {
   "cell_type": "code",
   "execution_count": 7,
   "metadata": {},
   "outputs": [
    {
     "name": "stdout",
     "output_type": "stream",
     "text": [
      "Enter a name: Upama\n",
      "Predicted gender (Last Letter): Female\n",
      "Predicted gender (Last Two Letters): Female\n"
     ]
    }
   ],
   "source": [
    "# Assuming classifier1 and classifier2 return 0 for Male and 1 for Female\n",
    "\n",
    "def gender_name_map(prediction):\n",
    "    return \"Male\" if prediction == 0 else \"Female\"\n",
    "\n",
    "custom_name = input(\"Enter a name: \")\n",
    "\n",
    "# Get the predicted results\n",
    "prediction_last_letter = classifier1.classify(gender_features_last_letter(custom_name))\n",
    "prediction_last_two_letters = classifier2.classify(gender_features_last_two_letters(custom_name))\n",
    "\n",
    "# Print the mapped results\n",
    "print(\"Predicted gender (Last Letter):\", gender_name_map(prediction_last_letter))\n",
    "print(\"Predicted gender (Last Two Letters):\", gender_name_map(prediction_last_two_letters))"
   ]
  },
  {
   "cell_type": "markdown",
   "metadata": {},
   "source": [
    "## Training the Model (Sklearn Clasifier) and Evaluating"
   ]
  },
  {
   "cell_type": "code",
   "execution_count": 8,
   "metadata": {},
   "outputs": [],
   "source": [
    "import pandas as pd\n",
    "from sklearn.preprocessing import OneHotEncoder\n",
    "from sklearn.linear_model import LogisticRegression\n",
    "from sklearn.ensemble import RandomForestClassifier\n",
    "from sklearn.metrics import accuracy_score\n",
    "import spacy\n",
    "\n",
    "# Assuming names_list and df are already defined, else they need to be defined\n",
    "# df['Name'] contains names, df['Gender'] contains gender labels, names_list contains name and gender tuples\n",
    "\n",
    "# Feature extraction functions for last letter and last two letters\n",
    "def last_letter(name):\n",
    "    return name[-1].lower()\n",
    "\n",
    "def last_two_letters(name):\n",
    "    return name[-2:].lower()\n",
    "\n",
    "# Apply feature extraction\n",
    "X_train1 = [last_letter(name) for name, _ in names_list]\n",
    "X_test1 = [last_letter(name) for name in df['Name']]\n",
    "X_train2 = [last_two_letters(name) for name, _ in names_list]\n",
    "X_test2 = [last_two_letters(name) for name in df['Name']]\n",
    "\n",
    "# Assuming y_train and y_test are predefined\n",
    "y_train = [gender for _, gender in names_list]\n",
    "y_test = df['Gender'].tolist()\n",
    "\n",
    "# OneHotEncoder for the last letter or last two letters\n",
    "encoder = OneHotEncoder(sparse_output=False)\n",
    "\n",
    "# Transforming last letters for logistic regression\n",
    "X_train1_encoded = encoder.fit_transform(pd.DataFrame(X_train1))\n",
    "X_test1_encoded = encoder.transform(pd.DataFrame(X_test1))\n",
    "\n",
    "# Transforming last two letters for logistic regression\n",
    "X_train2_encoded = encoder.fit_transform(pd.DataFrame(X_train2))\n",
    "X_test2_encoded = encoder.transform(pd.DataFrame(X_test2))"
   ]
  },
  {
   "cell_type": "code",
   "execution_count": 9,
   "metadata": {},
   "outputs": [
    {
     "name": "stdout",
     "output_type": "stream",
     "text": [
      "Logistic Regression Accuracy (Last Letter): 0.9\n",
      "Logistic Regression Accuracy (Last Two Letters): 0.91\n",
      "Random Forest Accuracy (Last Letter): 0.9\n",
      "Random Forest Accuracy (Last Two Letters): 0.91\n"
     ]
    }
   ],
   "source": [
    "# Logistic Regression for Last Letter\n",
    "log_reg1 = LogisticRegression(max_iter=200)\n",
    "log_reg1.fit(X_train1_encoded, y_train)\n",
    "y_pred_log1 = log_reg1.predict(X_test1_encoded)\n",
    "print(\"Logistic Regression Accuracy (Last Letter):\", np.round(accuracy_score(y_test, y_pred_log1), 2))\n",
    "\n",
    "# Logistic Regression for Last Two Letters\n",
    "log_reg2 = LogisticRegression(max_iter=200)\n",
    "log_reg2.fit(X_train2_encoded, y_train)\n",
    "y_pred_log2 = log_reg2.predict(X_test2_encoded)\n",
    "print(\"Logistic Regression Accuracy (Last Two Letters):\", np.round(accuracy_score(y_test, y_pred_log2), 2))\n",
    "\n",
    "# Random Forest for Last Letter\n",
    "rf_clf1 = RandomForestClassifier()\n",
    "rf_clf1.fit(X_train1_encoded, y_train)\n",
    "y_pred_rf1 = rf_clf1.predict(X_test1_encoded)\n",
    "print(\"Random Forest Accuracy (Last Letter):\", np.round(accuracy_score(y_test, y_pred_rf1), 2))\n",
    "\n",
    "# Random Forest for Last Two Letters\n",
    "rf_clf2 = RandomForestClassifier()\n",
    "rf_clf2.fit(X_train2_encoded, y_train)\n",
    "y_pred_rf2 = rf_clf2.predict(X_test2_encoded)\n",
    "print(\"Random Forest Accuracy (Last Two Letters):\", np.round(accuracy_score(y_test, y_pred_rf2), 2))"
   ]
  },
  {
   "cell_type": "markdown",
   "metadata": {},
   "source": [
    "## Spacy Model"
   ]
  },
  {
   "cell_type": "code",
   "execution_count": 10,
   "metadata": {},
   "outputs": [
    {
     "name": "stdout",
     "output_type": "stream",
     "text": [
      "Enter a name: Ayush\n",
      "Predicted gender (SpaCy): Male\n"
     ]
    }
   ],
   "source": [
    "# Load SpaCy model (English)\n",
    "nlp = spacy.load(\"en_core_web_sm\")\n",
    "\n",
    "def spacy_predict(name):\n",
    "    doc = nlp(name)\n",
    "    # Simple heuristic based on last letter\n",
    "    if doc[0].text[-1].lower() in ['a', 'e', 'i']:\n",
    "        return \"Female\"\n",
    "    else:\n",
    "        return \"Male\"\n",
    "\n",
    "# Custom input prediction with SpaCy\n",
    "custom_name = input(\"Enter a name: \")\n",
    "spacy_gender = spacy_predict(custom_name)\n",
    "print(\"Predicted gender (SpaCy):\", spacy_gender)"
   ]
  },
  {
   "cell_type": "markdown",
   "metadata": {},
   "source": [
    "Summary of Observations:\n",
    "\n",
    "Naive Bayes Classifier: \n",
    "Accuracy (Last Letter): 0.86; Naive Bayes Accuracy (Last Two Letters): 0.88\n",
    "\n",
    "SK Learn Classifier:\n",
    "Logistic Regression Accuracy (Last Letter): 0.9; Logistic Regression Accuracy (Last Two Letters): 0.91\n",
    "Random Forest Accuracy (Last Letter): 0.9; Random Forest Accuracy (Last Two Letters): 0.91\n",
    "\n",
    "We can see that considering the last two letters of the names provide better accuracy than considering the last letter."
   ]
  },
  {
   "cell_type": "code",
   "execution_count": null,
   "metadata": {},
   "outputs": [],
   "source": []
  }
 ],
 "metadata": {
  "colab": {
   "provenance": []
  },
  "kernelspec": {
   "display_name": "Python 3 (ipykernel)",
   "language": "python",
   "name": "python3"
  },
  "language_info": {
   "codemirror_mode": {
    "name": "ipython",
    "version": 3
   },
   "file_extension": ".py",
   "mimetype": "text/x-python",
   "name": "python",
   "nbconvert_exporter": "python",
   "pygments_lexer": "ipython3",
   "version": "3.11.5"
  }
 },
 "nbformat": 4,
 "nbformat_minor": 1
}
